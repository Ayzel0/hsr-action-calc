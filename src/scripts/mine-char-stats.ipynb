{
 "cells": [
  {
   "cell_type": "code",
   "execution_count": 3,
   "metadata": {},
   "outputs": [],
   "source": [
    "from selenium import webdriver\n",
    "from selenium.webdriver.common.by import By\n",
    "from selenium.webdriver.common.keys import Keys\n",
    "from selenium.webdriver.support import expected_conditions as EC\n",
    "from selenium.webdriver.support.wait import WebDriverWait\n",
    "\n",
    "import time\n",
    "import json\n",
    "import requests"
   ]
  },
  {
   "cell_type": "code",
   "execution_count": 5,
   "metadata": {},
   "outputs": [],
   "source": [
    "class StatScraper:\n",
    "    def __init__(self, url):\n",
    "        self.driver = None\n",
    "        self.url = url\n",
    "    \n",
    "    def create_driver(self):\n",
    "        self.driver = webdriver.Chrome()\n",
    "        self.driver.get(self.url)\n",
    "        self.driver.maximize_window()\n",
    "        self.wait = WebDriverWait(self.driver, 10)\n",
    "\n",
    "    def enable_unreleased(self):\n",
    "        # constants\n",
    "        UNRELEASED_SELECT = '//select[@class=\"font-medium rounded-md text-blazer-950 text-right pb-0.5\"]'\n",
    "        CLOSE_SETTINGS_MENU_ICON = '//div[@class=\"absolute right-3 cursor-pointer p-4\"]'\n",
    "\n",
    "        # enable unreleased content\n",
    "        unreleased_select = WebDriverWait(self.driver, 10).until(\n",
    "            EC.presence_of_element_located((By.XPATH, UNRELEASED_SELECT))\n",
    "        )\n",
    "        unreleased_select.click()\n",
    "        enable_option = unreleased_select.find_element(By.XPATH, './/option[@value=\"on\"]')\n",
    "        enable_option.click()\n",
    "\n",
    "        # close the settings menu\n",
    "        settings_title = self.driver.find_element(By.XPATH, '//div[@name=\"title\"]')\n",
    "        x_button = settings_title.find_element(By.XPATH, CLOSE_SETTINGS_MENU_ICON)\n",
    "        x_button.click()\n",
    "\n",
    "    def mine_stats(self):\n",
    "        CHARACTER_GRID = '//div[@class=\"flex flex-row flex-wrap justify-center gap-6 mt-2\"]'\n",
    "        SLIDER_BUTTON = '//button[text()=\"Slider\"]'\n",
    "        STAT_TABLE = '//table[@class=\"table-outline text-sm font-normal text-white\"]'\n",
    "\n",
    "        chargrid = self.wait.until(EC.presence_of_element_located((By.XPATH, CHARACTER_GRID)))\n",
    "        chars = chargrid.find_elements(By.TAG_NAME, 'a')\n",
    "        \n",
    "        # main scraping loop\n",
    "        for char in chars:\n",
    "            # click the character\n",
    "            char.click()\n",
    "\n",
    "            # find the slider button and turn to table\n",
    "            slider_button = self.wait.until(EC.presence_of_element_located((By.XPATH, SLIDER_BUTTON)))\n",
    "            slider_button.click()\n",
    "\n",
    "            # get the table and convert it to pandas\n",
    "            stat_table = self.wait.until(EC.presence_of_element_located((By.XPATH, STAT_TABLE)))\n",
    "            return stat_table.get_attribute('outerHTML')\n",
    "            "
   ]
  },
  {
   "cell_type": "code",
   "execution_count": 6,
   "metadata": {},
   "outputs": [
    {
     "ename": "ElementClickInterceptedException",
     "evalue": "Message: element click intercepted: Element <a href=\"/en/archive/avatar/1215\" class=\"\">...</a> is not clickable at point (354, 304). Other element would receive the click: <div class=\"-z-1 fixed inset-0 cursor-pointer bg-blazer-950 opacity-60\"></div>\n  (Session info: chrome=119.0.6045.200)\nStacktrace:\n\tGetHandleVerifier [0x00007FF6023B82B2+55298]\n\t(No symbol) [0x00007FF602325E02]\n\t(No symbol) [0x00007FF6021E05AB]\n\t(No symbol) [0x00007FF602227A77]\n\t(No symbol) [0x00007FF602225E39]\n\t(No symbol) [0x00007FF602223C08]\n\t(No symbol) [0x00007FF602222C8A]\n\t(No symbol) [0x00007FF6022187BF]\n\t(No symbol) [0x00007FF6022420AA]\n\t(No symbol) [0x00007FF6022180CF]\n\t(No symbol) [0x00007FF6022422C0]\n\t(No symbol) [0x00007FF60225AAA4]\n\t(No symbol) [0x00007FF602241E83]\n\t(No symbol) [0x00007FF60221670A]\n\t(No symbol) [0x00007FF602217964]\n\tGetHandleVerifier [0x00007FF602730AAB+3694587]\n\tGetHandleVerifier [0x00007FF60278728E+4048862]\n\tGetHandleVerifier [0x00007FF60277F173+4015811]\n\tGetHandleVerifier [0x00007FF6024547D6+695590]\n\t(No symbol) [0x00007FF602330CE8]\n\t(No symbol) [0x00007FF60232CF34]\n\t(No symbol) [0x00007FF60232D062]\n\t(No symbol) [0x00007FF60231D3A3]\n\tBaseThreadInitThunk [0x00007FFBB32A257D+29]\n\tRtlUserThreadStart [0x00007FFBB45CAA58+40]\n",
     "output_type": "error",
     "traceback": [
      "\u001b[1;31m---------------------------------------------------------------------------\u001b[0m",
      "\u001b[1;31mElementClickInterceptedException\u001b[0m          Traceback (most recent call last)",
      "Cell \u001b[1;32mIn[6], line 5\u001b[0m\n\u001b[0;32m      3\u001b[0m scraper \u001b[38;5;241m=\u001b[39m StatScraper(YATTA_URL)\n\u001b[0;32m      4\u001b[0m scraper\u001b[38;5;241m.\u001b[39mcreate_driver()\n\u001b[1;32m----> 5\u001b[0m \u001b[43mscraper\u001b[49m\u001b[38;5;241;43m.\u001b[39;49m\u001b[43mmine_stats\u001b[49m\u001b[43m(\u001b[49m\u001b[43m)\u001b[49m\n",
      "Cell \u001b[1;32mIn[5], line 23\u001b[0m, in \u001b[0;36mStatScraper.mine_stats\u001b[1;34m(self)\u001b[0m\n\u001b[0;32m     20\u001b[0m \u001b[38;5;66;03m# main scraping loop\u001b[39;00m\n\u001b[0;32m     21\u001b[0m \u001b[38;5;28;01mfor\u001b[39;00m char \u001b[38;5;129;01min\u001b[39;00m chars:\n\u001b[0;32m     22\u001b[0m     \u001b[38;5;66;03m# click the character\u001b[39;00m\n\u001b[1;32m---> 23\u001b[0m     \u001b[43mchar\u001b[49m\u001b[38;5;241;43m.\u001b[39;49m\u001b[43mclick\u001b[49m\u001b[43m(\u001b[49m\u001b[43m)\u001b[49m\n\u001b[0;32m     25\u001b[0m     \u001b[38;5;66;03m# find the slider button and turn to table\u001b[39;00m\n\u001b[0;32m     26\u001b[0m     slider_button \u001b[38;5;241m=\u001b[39m \u001b[38;5;28mself\u001b[39m\u001b[38;5;241m.\u001b[39mwait\u001b[38;5;241m.\u001b[39muntil(EC\u001b[38;5;241m.\u001b[39mpresence_of_element_located((By\u001b[38;5;241m.\u001b[39mXPATH, SLIDER_BUTTON)))\n",
      "File \u001b[1;32mc:\\Users\\Andrew\\.conda\\envs\\datascience\\lib\\site-packages\\selenium\\webdriver\\remote\\webelement.py:93\u001b[0m, in \u001b[0;36mWebElement.click\u001b[1;34m(self)\u001b[0m\n\u001b[0;32m     91\u001b[0m \u001b[38;5;28;01mdef\u001b[39;00m \u001b[38;5;21mclick\u001b[39m(\u001b[38;5;28mself\u001b[39m) \u001b[38;5;241m-\u001b[39m\u001b[38;5;241m>\u001b[39m \u001b[38;5;28;01mNone\u001b[39;00m:\n\u001b[0;32m     92\u001b[0m     \u001b[38;5;124;03m\"\"\"Clicks the element.\"\"\"\u001b[39;00m\n\u001b[1;32m---> 93\u001b[0m     \u001b[38;5;28;43mself\u001b[39;49m\u001b[38;5;241;43m.\u001b[39;49m\u001b[43m_execute\u001b[49m\u001b[43m(\u001b[49m\u001b[43mCommand\u001b[49m\u001b[38;5;241;43m.\u001b[39;49m\u001b[43mCLICK_ELEMENT\u001b[49m\u001b[43m)\u001b[49m\n",
      "File \u001b[1;32mc:\\Users\\Andrew\\.conda\\envs\\datascience\\lib\\site-packages\\selenium\\webdriver\\remote\\webelement.py:394\u001b[0m, in \u001b[0;36mWebElement._execute\u001b[1;34m(self, command, params)\u001b[0m\n\u001b[0;32m    392\u001b[0m     params \u001b[38;5;241m=\u001b[39m {}\n\u001b[0;32m    393\u001b[0m params[\u001b[38;5;124m\"\u001b[39m\u001b[38;5;124mid\u001b[39m\u001b[38;5;124m\"\u001b[39m] \u001b[38;5;241m=\u001b[39m \u001b[38;5;28mself\u001b[39m\u001b[38;5;241m.\u001b[39m_id\n\u001b[1;32m--> 394\u001b[0m \u001b[38;5;28;01mreturn\u001b[39;00m \u001b[38;5;28;43mself\u001b[39;49m\u001b[38;5;241;43m.\u001b[39;49m\u001b[43m_parent\u001b[49m\u001b[38;5;241;43m.\u001b[39;49m\u001b[43mexecute\u001b[49m\u001b[43m(\u001b[49m\u001b[43mcommand\u001b[49m\u001b[43m,\u001b[49m\u001b[43m \u001b[49m\u001b[43mparams\u001b[49m\u001b[43m)\u001b[49m\n",
      "File \u001b[1;32mc:\\Users\\Andrew\\.conda\\envs\\datascience\\lib\\site-packages\\selenium\\webdriver\\remote\\webdriver.py:344\u001b[0m, in \u001b[0;36mWebDriver.execute\u001b[1;34m(self, driver_command, params)\u001b[0m\n\u001b[0;32m    342\u001b[0m response \u001b[38;5;241m=\u001b[39m \u001b[38;5;28mself\u001b[39m\u001b[38;5;241m.\u001b[39mcommand_executor\u001b[38;5;241m.\u001b[39mexecute(driver_command, params)\n\u001b[0;32m    343\u001b[0m \u001b[38;5;28;01mif\u001b[39;00m response:\n\u001b[1;32m--> 344\u001b[0m     \u001b[38;5;28;43mself\u001b[39;49m\u001b[38;5;241;43m.\u001b[39;49m\u001b[43merror_handler\u001b[49m\u001b[38;5;241;43m.\u001b[39;49m\u001b[43mcheck_response\u001b[49m\u001b[43m(\u001b[49m\u001b[43mresponse\u001b[49m\u001b[43m)\u001b[49m\n\u001b[0;32m    345\u001b[0m     response[\u001b[38;5;124m\"\u001b[39m\u001b[38;5;124mvalue\u001b[39m\u001b[38;5;124m\"\u001b[39m] \u001b[38;5;241m=\u001b[39m \u001b[38;5;28mself\u001b[39m\u001b[38;5;241m.\u001b[39m_unwrap_value(response\u001b[38;5;241m.\u001b[39mget(\u001b[38;5;124m\"\u001b[39m\u001b[38;5;124mvalue\u001b[39m\u001b[38;5;124m\"\u001b[39m, \u001b[38;5;28;01mNone\u001b[39;00m))\n\u001b[0;32m    346\u001b[0m     \u001b[38;5;28;01mreturn\u001b[39;00m response\n",
      "File \u001b[1;32mc:\\Users\\Andrew\\.conda\\envs\\datascience\\lib\\site-packages\\selenium\\webdriver\\remote\\errorhandler.py:229\u001b[0m, in \u001b[0;36mErrorHandler.check_response\u001b[1;34m(self, response)\u001b[0m\n\u001b[0;32m    227\u001b[0m         alert_text \u001b[38;5;241m=\u001b[39m value[\u001b[38;5;124m\"\u001b[39m\u001b[38;5;124malert\u001b[39m\u001b[38;5;124m\"\u001b[39m]\u001b[38;5;241m.\u001b[39mget(\u001b[38;5;124m\"\u001b[39m\u001b[38;5;124mtext\u001b[39m\u001b[38;5;124m\"\u001b[39m)\n\u001b[0;32m    228\u001b[0m     \u001b[38;5;28;01mraise\u001b[39;00m exception_class(message, screen, stacktrace, alert_text)  \u001b[38;5;66;03m# type: ignore[call-arg]  # mypy is not smart enough here\u001b[39;00m\n\u001b[1;32m--> 229\u001b[0m \u001b[38;5;28;01mraise\u001b[39;00m exception_class(message, screen, stacktrace)\n",
      "\u001b[1;31mElementClickInterceptedException\u001b[0m: Message: element click intercepted: Element <a href=\"/en/archive/avatar/1215\" class=\"\">...</a> is not clickable at point (354, 304). Other element would receive the click: <div class=\"-z-1 fixed inset-0 cursor-pointer bg-blazer-950 opacity-60\"></div>\n  (Session info: chrome=119.0.6045.200)\nStacktrace:\n\tGetHandleVerifier [0x00007FF6023B82B2+55298]\n\t(No symbol) [0x00007FF602325E02]\n\t(No symbol) [0x00007FF6021E05AB]\n\t(No symbol) [0x00007FF602227A77]\n\t(No symbol) [0x00007FF602225E39]\n\t(No symbol) [0x00007FF602223C08]\n\t(No symbol) [0x00007FF602222C8A]\n\t(No symbol) [0x00007FF6022187BF]\n\t(No symbol) [0x00007FF6022420AA]\n\t(No symbol) [0x00007FF6022180CF]\n\t(No symbol) [0x00007FF6022422C0]\n\t(No symbol) [0x00007FF60225AAA4]\n\t(No symbol) [0x00007FF602241E83]\n\t(No symbol) [0x00007FF60221670A]\n\t(No symbol) [0x00007FF602217964]\n\tGetHandleVerifier [0x00007FF602730AAB+3694587]\n\tGetHandleVerifier [0x00007FF60278728E+4048862]\n\tGetHandleVerifier [0x00007FF60277F173+4015811]\n\tGetHandleVerifier [0x00007FF6024547D6+695590]\n\t(No symbol) [0x00007FF602330CE8]\n\t(No symbol) [0x00007FF60232CF34]\n\t(No symbol) [0x00007FF60232D062]\n\t(No symbol) [0x00007FF60231D3A3]\n\tBaseThreadInitThunk [0x00007FFBB32A257D+29]\n\tRtlUserThreadStart [0x00007FFBB45CAA58+40]\n"
     ]
    }
   ],
   "source": [
    "YATTA_URL = 'https://hsr.yatta.top/en/archive/avatar'\n",
    "\n",
    "scraper = StatScraper(YATTA_URL)\n",
    "scraper.create_driver()\n",
    "scraper.mine_stats()"
   ]
  }
 ],
 "metadata": {
  "kernelspec": {
   "display_name": "datascience",
   "language": "python",
   "name": "python3"
  },
  "language_info": {
   "codemirror_mode": {
    "name": "ipython",
    "version": 3
   },
   "file_extension": ".py",
   "mimetype": "text/x-python",
   "name": "python",
   "nbconvert_exporter": "python",
   "pygments_lexer": "ipython3",
   "version": "3.10.9"
  }
 },
 "nbformat": 4,
 "nbformat_minor": 2
}
